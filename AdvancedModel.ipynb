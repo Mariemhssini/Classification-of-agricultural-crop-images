{
 "cells": [
  {
   "cell_type": "code",
   "execution_count": 1,
   "id": "47caec8f-95c5-495d-ace7-7ce796656364",
   "metadata": {},
   "outputs": [],
   "source": [
    "import tensorflow as tf\n",
    "import pandas as pd\n",
    "import matplotlib.pyplot as plt\n",
    "import numpy as np"
   ]
  },
  {
   "cell_type": "code",
   "execution_count": 2,
   "id": "7ee3e71a-fb9c-44a0-b00b-c87fb319a2f5",
   "metadata": {},
   "outputs": [
    {
     "data": {
      "text/plain": [
       "['Crop_details.csv',\n",
       " 'crop_images',\n",
       " 'kag2',\n",
       " 'some_more_images',\n",
       " 'test_crop_image']"
      ]
     },
     "execution_count": 2,
     "metadata": {},
     "output_type": "execute_result"
    }
   ],
   "source": [
    "import os\n",
    "# Specify the path to the folder\n",
    "folder_path = 'C:/Users/mariem hssn/OneDrive/Bureau/Classification of agricultural crop images/dataset'\n",
    "\n",
    "# List all files in the folder\n",
    "files = os.listdir(folder_path)\n",
    "\n",
    "# Display the list of files\n",
    "files"
   ]
  },
  {
   "cell_type": "code",
   "execution_count": 3,
   "id": "4fde7af6-6fb6-44ed-88bf-f04c942ec687",
   "metadata": {},
   "outputs": [
    {
     "name": "stdout",
     "output_type": "stream",
     "text": [
      "Found 804 images belonging to 5 classes.\n",
      "Found 50 images belonging to 5 classes.\n",
      "Found 45 images belonging to 5 classes.\n"
     ]
    }
   ],
   "source": [
    "\n",
    "from tensorflow.keras.preprocessing.image import ImageDataGenerator\n",
    "from tensorflow.keras.preprocessing import image\n",
    "\n",
    "train_data_dir ='C:/Users/mariem hssn/OneDrive/Bureau/Classification of agricultural crop images/dataset/kag2'\n",
    "validation_data_dir='C:/Users/mariem hssn/OneDrive/Bureau/Classification of agricultural crop images/dataset/some_more_images/some_more_images'\n",
    "test_data_dir='C:/Users/mariem hssn/OneDrive/Bureau/Classification of agricultural crop images/dataset/test_crop_image'\n",
    "\n",
    "image_width, image_height=224,224\n",
    "batch_size=16\n",
    "\n",
    "datagen=ImageDataGenerator(rescale=1./255)\n",
    "\n",
    "train_generator=datagen.flow_from_directory(\n",
    "    train_data_dir,\n",
    "    target_size=(image_width,image_height),\n",
    "    batch_size=batch_size,\n",
    "    class_mode = 'categorical'\n",
    ")\n",
    "validation_generator=datagen.flow_from_directory(\n",
    "    validation_data_dir,\n",
    "    target_size=(image_width,image_height),\n",
    "    batch_size=batch_size,\n",
    "    class_mode = 'categorical'\n",
    ")\n",
    "test_generator=datagen.flow_from_directory(\n",
    "    test_data_dir,\n",
    "    target_size=(image_width,image_height),\n",
    "    batch_size=batch_size,\n",
    "    class_mode = 'categorical'\n",
    ")"
   ]
  },
  {
   "cell_type": "code",
   "execution_count": 4,
   "id": "94260217-4146-4760-a871-dc27ce239115",
   "metadata": {},
   "outputs": [
    {
     "name": "stdout",
     "output_type": "stream",
     "text": [
      "Model: \"sequential\"\n",
      "_________________________________________________________________\n",
      " Layer (type)                Output Shape              Param #   \n",
      "=================================================================\n",
      " conv2d (Conv2D)             (None, 222, 222, 32)      896       \n",
      "                                                                 \n",
      " max_pooling2d (MaxPooling2D  (None, 111, 111, 32)     0         \n",
      " )                                                               \n",
      "                                                                 \n",
      " conv2d_1 (Conv2D)           (None, 109, 109, 64)      18496     \n",
      "                                                                 \n",
      " max_pooling2d_1 (MaxPooling  (None, 54, 54, 64)       0         \n",
      " 2D)                                                             \n",
      "                                                                 \n",
      " conv2d_2 (Conv2D)           (None, 52, 52, 128)       73856     \n",
      "                                                                 \n",
      " max_pooling2d_2 (MaxPooling  (None, 26, 26, 128)      0         \n",
      " 2D)                                                             \n",
      "                                                                 \n",
      " flatten (Flatten)           (None, 86528)             0         \n",
      "                                                                 \n",
      " dense (Dense)               (None, 128)               11075712  \n",
      "                                                                 \n",
      " dropout (Dropout)           (None, 128)               0         \n",
      "                                                                 \n",
      " dense_1 (Dense)             (None, 5)                 645       \n",
      "                                                                 \n",
      "=================================================================\n",
      "Total params: 11,169,605\n",
      "Trainable params: 11,169,605\n",
      "Non-trainable params: 0\n",
      "_________________________________________________________________\n"
     ]
    }
   ],
   "source": [
    "from tensorflow.keras.models import Sequential\n",
    "from tensorflow.keras.layers import Conv2D,Flatten,MaxPooling2D,Dense,Dropout\n",
    "\n",
    "model=Sequential()\n",
    "model.add(Conv2D(32,(3,3),activation='relu',input_shape=(224,224,3)))\n",
    "model.add(MaxPooling2D (2,2))\n",
    "model.add(Conv2D(64,(3,3),activation='relu'))\n",
    "model.add(MaxPooling2D(2,2))\n",
    "model.add(Conv2D(128,(3,3),activation='relu'))\n",
    "model.add(MaxPooling2D(2,2))\n",
    "model.add(Flatten())\n",
    "model.add(Dense(128,activation='relu'))\n",
    "model.add(Dropout(0.25))\n",
    "model.add(Dense(5,activation='softmax'))\n",
    "model.compile(optimizer='adam',loss='categorical_crossentropy',metrics=['accuracy'])\n",
    "model.summary()"
   ]
  },
  {
   "cell_type": "code",
   "execution_count": 5,
   "id": "0b0fe2bc-021b-4ab4-956f-3681d34393d6",
   "metadata": {},
   "outputs": [
    {
     "name": "stdout",
     "output_type": "stream",
     "text": [
      "Epoch 1/10\n",
      "50/50 [==============================] - 70s 1s/step - loss: 1.7076 - accuracy: 0.2195 - val_loss: 1.7545 - val_accuracy: 0.1250\n",
      "Epoch 2/10\n",
      "50/50 [==============================] - 68s 1s/step - loss: 1.3877 - accuracy: 0.4226 - val_loss: 2.3712 - val_accuracy: 0.0417\n",
      "Epoch 3/10\n",
      "50/50 [==============================] - 74s 1s/step - loss: 1.1346 - accuracy: 0.5508 - val_loss: 3.8979 - val_accuracy: 0.0833\n",
      "Epoch 4/10\n",
      "50/50 [==============================] - 65s 1s/step - loss: 0.8305 - accuracy: 0.6992 - val_loss: 4.3332 - val_accuracy: 0.0833\n",
      "Epoch 5/10\n",
      "50/50 [==============================] - 80s 2s/step - loss: 0.6026 - accuracy: 0.7919 - val_loss: 5.7978 - val_accuracy: 0.0833\n",
      "Epoch 6/10\n",
      "50/50 [==============================] - 69s 1s/step - loss: 0.4135 - accuracy: 0.8629 - val_loss: 8.1150 - val_accuracy: 0.1042\n",
      "Epoch 7/10\n",
      "50/50 [==============================] - 59s 1s/step - loss: 0.2715 - accuracy: 0.9124 - val_loss: 7.5893 - val_accuracy: 0.0833\n",
      "Epoch 8/10\n",
      "50/50 [==============================] - 64s 1s/step - loss: 0.2708 - accuracy: 0.9137 - val_loss: 9.9677 - val_accuracy: 0.0625\n",
      "Epoch 9/10\n",
      "50/50 [==============================] - 62s 1s/step - loss: 0.2235 - accuracy: 0.9391 - val_loss: 7.2613 - val_accuracy: 0.0625\n",
      "Epoch 10/10\n",
      "50/50 [==============================] - 62s 1s/step - loss: 0.1572 - accuracy: 0.9530 - val_loss: 7.8504 - val_accuracy: 0.1250\n"
     ]
    }
   ],
   "source": [
    "history =model. fit(\n",
    "    train_generator,\n",
    "    steps_per_epoch=train_generator.samples // batch_size,\n",
    "    epochs=10,  # Adjust the number of epochs as needed\n",
    "    validation_data=validation_generator,\n",
    "    validation_steps=validation_generator.samples // batch_size\n",
    ")"
   ]
  },
  {
   "cell_type": "code",
   "execution_count": 6,
   "id": "9e66d4cb-9b9c-41b3-a27f-ccaf350b5a1a",
   "metadata": {},
   "outputs": [
    {
     "name": "stdout",
     "output_type": "stream",
     "text": [
      "3/3 [==============================] - 1s 439ms/step\n",
      "Classification Report:\n",
      "              precision    recall  f1-score   support\n",
      "\n",
      "           0       0.50      0.33      0.40         9\n",
      "           1       0.12      0.29      0.17         7\n",
      "           2       0.20      0.12      0.15         8\n",
      "           3       0.00      0.00      0.00         8\n",
      "           4       0.25      0.31      0.28        13\n",
      "\n",
      "    accuracy                           0.22        45\n",
      "   macro avg       0.21      0.21      0.20        45\n",
      "weighted avg       0.23      0.22      0.21        45\n",
      "\n"
     ]
    },
    {
     "data": {
      "image/png": "[encoded data removed]",
      "text/plain": [
       "<Figure size 800x600 with 2 Axes>"
      ]
     },
     "metadata": {},
     "output_type": "display_data"
    }
   ],
   "source": [
    "\n",
    "from sklearn.metrics import classification_report, confusion_matrix\n",
    "\n",
    "import seaborn as sns\n",
    "\n",
    "# Make predictions using the provided model and generator\n",
    "predictions = model.predict(test_generator)\n",
    "\n",
    "# Get true labels from the generator\n",
    "true_labels = test_generator.classes\n",
    "\n",
    "# Predicted labels are the argmax of the predictions along axis 1\n",
    "predicted_labels = np.argmax(predictions, axis=1)\n",
    "\n",
    "# Display classification report\n",
    "print(f\"Classification Report:\\n{classification_report(true_labels, predicted_labels)}\")\n",
    "\n",
    "# Display colored confusion matrix\n",
    "cm = confusion_matrix(true_labels, predicted_labels)\n",
    "plt.figure(figsize=(8, 6))\n",
    "sns.heatmap(cm, annot=True, fmt='d', cmap='Blues', xticklabels=['Class 0', 'Class 1', 'Class 2', 'Class 3', 'Class 4'], yticklabels=['Class 0', 'Class 1', 'Class 2', 'Class 3', 'Class 4'])\n",
    "plt.xlabel('Predicted Labels')\n",
    "plt.ylabel('True Labels')\n",
    "plt.title('Confusion Matrix')\n",
    "plt.show()"
   ]
  },
  {
   "cell_type": "code",
   "execution_count": 10,
   "id": "b49035f1-3e25-4ba5-b7df-a37bfad72072",
   "metadata": {},
   "outputs": [],
   "source": [
    "from  tensorflow.keras.applications import ResNet50 ,InceptionV3 ,VGG16\n",
    "from tensorflow.keras import layers , models\n",
    "\n",
    "base_model_vgg=VGG16(weights='imagenet' ,include_top =False , input_shape=(224,224,3))\n",
    "\n",
    "for layer in base_model_vgg.layers:\n",
    "  layer.trainable =False\n",
    "\n",
    "model_vgg = models.Sequential( [\n",
    "      base_model_vgg ,\n",
    "      layers.GlobalAveragePooling2D(),\n",
    "      layers.Dense(256, activation ='relu'),\n",
    "      layers.Dropout(0.5),\n",
    "      layers.Dense(5,activation ='softmax')\n",
    "   ]\n",
    ")"
   ]
  },
  {
   "cell_type": "code",
   "execution_count": 11,
   "id": "082d65f6-6c4f-446c-a852-c370744bcc85",
   "metadata": {},
   "outputs": [],
   "source": [
    "model_vgg.compile(optimizer='adam', loss='categorical_crossentropy', metrics=['accuracy'])"
   ]
  },
  {
   "cell_type": "code",
   "execution_count": null,
   "id": "73ec80bd-5ad5-4628-a9d2-cdac686d6a95",
   "metadata": {},
   "outputs": [
    {
     "name": "stdout",
     "output_type": "stream",
     "text": [
      "Epoch 1/10\n",
      "50/50 [==============================] - 265s 5s/step - loss: 1.5796 - accuracy: 0.3122 - val_loss: 1.6329 - val_accuracy: 0.1250\n",
      "Epoch 2/10\n",
      "39/50 [======================>.......] - ETA: 52s - loss: 1.3790 - accuracy: 0.4118"
     ]
    }
   ],
   "source": [
    "history = model_vgg .fit(\n",
    "    train_generator,\n",
    "    steps_per_epoch=train_generator.samples // batch_size,\n",
    "    epochs=10,  # Adjust the number of epochs as needed\n",
    "    validation_data=validation_generator,\n",
    "    validation_steps=validation_generator.samples // batch_size\n",
    ")"
   ]
  },
  {
   "cell_type": "code",
   "execution_count": null,
   "id": "338ee73d-e8b0-455c-939b-d0db170c9d31",
   "metadata": {},
   "outputs": [],
   "source": [
    "\n",
    "# Make predictions using the provided model and generator\n",
    "predictions = model_vgg.predict(test_generator)\n",
    "\n",
    "# Get true labels from the generator\n",
    "true_labels = test_generator.classes\n",
    "\n",
    "# Predicted labels are the argmax of the predictions along axis 1\n",
    "predicted_labels = np.argmax(predictions, axis=1)\n",
    "\n",
    "# Display classification report\n",
    "print(f\"Classification Report:\\n{classification_report(true_labels, predicted_labels)}\")\n",
    "\n",
    "# Display colored confusion matrix\n",
    "cm = confusion_matrix(true_labels, predicted_labels)\n",
    "plt.figure(figsize=(8, 6))\n",
    "sns.heatmap(cm, annot=True, fmt='d', cmap='Blues', xticklabels=['Class 0', 'Class 1', 'Class 2', 'Class 3', 'Class 4'], yticklabels=['Class 0', 'Class 1', 'Class 2', 'Class 3', 'Class 4'])\n",
    "plt.xlabel('Predicted Labels')\n",
    "plt.ylabel('True Labels')\n",
    "plt.title('Confusion Matrix')\n",
    "plt.show()"
   ]
  },
  {
   "cell_type": "code",
   "execution_count": null,
   "id": "a88fa4df-7cbf-40f8-8667-f37bef134d50",
   "metadata": {},
   "outputs": [],
   "source": [
    "base_model_inception= InceptionV3(weights='imagenet', include_top=False,input_shape=(224,224,3))\n",
    "for layer in base_model_inception.layers:\n",
    "  layer.trainable=False\n",
    "model_inception = models.Sequential([\n",
    "\n",
    " base_model_inception,\n",
    " layers.GlobalAveragePooling2D(),\n",
    " layers.Dense(256,activation='relu'),\n",
    " layers.Dropout(0.5),\n",
    " layers.Dense(5,activation='softmax')\n",
    "\n",
    "])"
   ]
  },
  {
   "cell_type": "code",
   "execution_count": null,
   "id": "22a24c07-00d6-4d4d-942a-7c597a74a97f",
   "metadata": {},
   "outputs": [],
   "source": [
    "model_inception.compile(optimizer='adam', loss='categorical_crossentropy', metrics=['accuracy'])"
   ]
  },
  {
   "cell_type": "code",
   "execution_count": null,
   "id": "4fe08604-edaa-4483-8e65-70e262a4452c",
   "metadata": {},
   "outputs": [],
   "source": [
    "history = model_inception .fit(\n",
    "    train_generator,\n",
    "    steps_per_epoch=train_generator.samples // batch_size,\n",
    "    epochs=10,  # Adjust the number of epochs as needed\n",
    "    validation_data=validation_generator,\n",
    "    validation_steps=validation_generator.samples // batch_size\n",
    ")"
   ]
  },
  {
   "cell_type": "code",
   "execution_count": null,
   "id": "c4af4490-12ef-478a-9980-7359b0040270",
   "metadata": {},
   "outputs": [],
   "source": [
    "# Make predictions using the provided model and generator\n",
    "predictions = model_inception.predict(test_generator)\n",
    "\n",
    "# Get true labels from the generator\n",
    "true_labels = test_generator.classes\n",
    "\n",
    "# Predicted labels are the argmax of the predictions along axis 1\n",
    "predicted_labels = np.argmax(predictions, axis=1)\n",
    "\n",
    "# Display classification report\n",
    "print(f\"Classification Report:\\n{classification_report(true_labels, predicted_labels)}\")\n",
    "\n",
    "# Display colored confusion matrix\n",
    "cm = confusion_matrix(true_labels, predicted_labels)\n",
    "plt.figure(figsize=(8, 6))\n",
    "sns.heatmap(cm, annot=True, fmt='d', cmap='Blues', xticklabels=['Class 0', 'Class 1', 'Class 2', 'Class 3', 'Class 4'], yticklabels=['Class 0', 'Class 1', 'Class 2', 'Class 3', 'Class 4'])\n",
    "plt.xlabel('Predicted Labels')\n",
    "plt.ylabel('True Labels')\n",
    "plt.title('Confusion Matrix')\n",
    "plt.show()"
   ]
  },
  {
   "cell_type": "code",
   "execution_count": null,
   "id": "4d108fcb-660d-4f18-a914-69b8b7fdc0f9",
   "metadata": {},
   "outputs": [],
   "source": [
    "import joblib\n",
    "\n",
    "joblib.dump(model_vgg, 'model_vgg.joblib')\n",
    "joblib.dump(model_inception,'model_inception.joblib')\n",
    "joblib.dump(model_resnet,'model_resnet.joblib')"
   ]
  },
  {
   "cell_type": "code",
   "execution_count": null,
   "id": "2d537f61-7554-4027-9563-26e56c721935",
   "metadata": {},
   "outputs": [],
   "source": [
    "loaded_model_vgg = joblib.load('model_vgg.joblib')\n",
    "loaded_model_inception = joblib.load('model_inception.joblib')\n",
    "loaded_model_resnet = joblib.load('model_resnet.joblib')\n",
    "\n",
    "image_path = '/content/data_folder/test_crop_image/jute-field.jpg'\n",
    "img = image.load_img(image_path, target_size=(224, 224))\n",
    "img_array = image.img_to_array(img)\n",
    "img_array = np.expand_dims(img_array, axis=0)\n",
    "img_array /= 255.\n",
    "\n",
    "\n",
    "predictions_vgg = loaded_model_vgg.predict(img_array)\n",
    "predictions_resnet = loaded_model_resnet.predict(img_array)\n",
    "predictions_inception = loaded_model_inception.predict(img_array)\n",
    "final_predictions = np.argmax(predictions_vgg + predictions_inception + predictions_resnet, axis=1)\n",
    "print(f\"Predicted class: {final_predictions[0]}\")"
   ]
  }
 ],
 "metadata": {
  "kernelspec": {
   "display_name": "Python 3 (ipykernel)",
   "language": "python",
   "name": "python3"
  },
  "language_info": {
   "codemirror_mode": {
    "name": "ipython",
    "version": 3
   },
   "file_extension": ".py",
   "mimetype": "text/x-python",
   "name": "python",
   "nbconvert_exporter": "python",
   "pygments_lexer": "ipython3",
   "version": "3.10.10"
  }
 },
 "nbformat": 4,
 "nbformat_minor": 5
}
