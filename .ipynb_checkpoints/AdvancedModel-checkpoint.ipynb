{
 "cells": [
  {
   "cell_type": "code",
   "execution_count": 1,
   "id": "47caec8f-95c5-495d-ace7-7ce796656364",
   "metadata": {},
   "outputs": [],
   "source": [
    "import tensorflow as tf\n",
    "import pandas as pd\n",
    "import matplotlib.pyplot as plt\n",
    "import numpy as np"
   ]
  },
  {
   "cell_type": "code",
   "execution_count": 2,
   "id": "7ee3e71a-fb9c-44a0-b00b-c87fb319a2f5",
   "metadata": {},
   "outputs": [
    {
     "data": {
      "text/plain": [
       "['Crop_details.csv',\n",
       " 'crop_images',\n",
       " 'kag2',\n",
       " 'some_more_images',\n",
       " 'test_crop_image']"
      ]
     },
     "execution_count": 2,
     "metadata": {},
     "output_type": "execute_result"
    }
   ],
   "source": [
    "import os\n",
    "# Specify the path to the folder\n",
    "folder_path = 'C:/Users/mariem hssn/OneDrive/Bureau/Classification of agricultural crop images/dataset'\n",
    "\n",
    "# List all files in the folder\n",
    "files = os.listdir(folder_path)\n",
    "\n",
    "# Display the list of files\n",
    "files"
   ]
  },
  {
   "cell_type": "code",
   "execution_count": 3,
   "id": "4fde7af6-6fb6-44ed-88bf-f04c942ec687",
   "metadata": {},
   "outputs": [
    {
     "name": "stdout",
     "output_type": "stream",
     "text": [
      "Found 804 images belonging to 5 classes.\n",
      "Found 50 images belonging to 5 classes.\n",
      "Found 0 images belonging to 0 classes.\n"
     ]
    }
   ],
   "source": [
    "\n",
    "from tensorflow.keras.preprocessing.image import ImageDataGenerator\n",
    "from tensorflow.keras.preprocessing import image\n",
    "\n",
    "train_data_dir ='C:/Users/mariem hssn/OneDrive/Bureau/Classification of agricultural crop images/dataset/kag2'\n",
    "validation_data_dir='C:/Users/mariem hssn/OneDrive/Bureau/Classification of agricultural crop images/dataset/some_more_images/some_more_images'\n",
    "test_data_dir='C:/Users/mariem hssn/OneDrive/Bureau/Classification of agricultural crop images/dataset/test_crop_image'\n",
    "\n",
    "image_width, image_height=224,224\n",
    "batch_size=16\n",
    "\n",
    "datagen=ImageDataGenerator(rescale=1./255)\n",
    "\n",
    "train_generator=datagen.flow_from_directory(\n",
    "    train_data_dir,\n",
    "    target_size=(image_width,image_height),\n",
    "    batch_size=batch_size,\n",
    "    class_mode = 'categorical'\n",
    ")\n",
    "validation_generator=datagen.flow_from_directory(\n",
    "    validation_data_dir,\n",
    "    target_size=(image_width,image_height),\n",
    "    batch_size=batch_size,\n",
    "    class_mode = 'categorical'\n",
    ")\n",
    "test_generator=datagen.flow_from_directory(\n",
    "    test_data_dir,\n",
    "    target_size=(image_width,image_height),\n",
    "    batch_size=batch_size,\n",
    "    class_mode = 'categorical'\n",
    ")"
   ]
  },
  {
   "cell_type": "code",
   "execution_count": 4,
   "id": "94260217-4146-4760-a871-dc27ce239115",
   "metadata": {},
   "outputs": [
    {
     "name": "stdout",
     "output_type": "stream",
     "text": [
      "Model: \"sequential\"\n",
      "_________________________________________________________________\n",
      " Layer (type)                Output Shape              Param #   \n",
      "=================================================================\n",
      " conv2d (Conv2D)             (None, 222, 222, 32)      896       \n",
      "                                                                 \n",
      " max_pooling2d (MaxPooling2D  (None, 111, 111, 32)     0         \n",
      " )                                                               \n",
      "                                                                 \n",
      " conv2d_1 (Conv2D)           (None, 109, 109, 64)      18496     \n",
      "                                                                 \n",
      " max_pooling2d_1 (MaxPooling  (None, 54, 54, 64)       0         \n",
      " 2D)                                                             \n",
      "                                                                 \n",
      " conv2d_2 (Conv2D)           (None, 52, 52, 128)       73856     \n",
      "                                                                 \n",
      " max_pooling2d_2 (MaxPooling  (None, 26, 26, 128)      0         \n",
      " 2D)                                                             \n",
      "                                                                 \n",
      " flatten (Flatten)           (None, 86528)             0         \n",
      "                                                                 \n",
      " dense (Dense)               (None, 128)               11075712  \n",
      "                                                                 \n",
      " dropout (Dropout)           (None, 128)               0         \n",
      "                                                                 \n",
      " dense_1 (Dense)             (None, 5)                 645       \n",
      "                                                                 \n",
      "=================================================================\n",
      "Total params: 11,169,605\n",
      "Trainable params: 11,169,605\n",
      "Non-trainable params: 0\n",
      "_________________________________________________________________\n"
     ]
    }
   ],
   "source": [
    "from tensorflow.keras.models import Sequential\n",
    "from tensorflow.keras.layers import Conv2D,Flatten,MaxPooling2D,Dense,Dropout\n",
    "\n",
    "model=Sequential()\n",
    "model.add(Conv2D(32,(3,3),activation='relu',input_shape=(224,224,3)))\n",
    "model.add(MaxPooling2D (2,2))\n",
    "model.add(Conv2D(64,(3,3),activation='relu'))\n",
    "model.add(MaxPooling2D(2,2))\n",
    "model.add(Conv2D(128,(3,3),activation='relu'))\n",
    "model.add(MaxPooling2D(2,2))\n",
    "model.add(Flatten())\n",
    "model.add(Dense(128,activation='relu'))\n",
    "model.add(Dropout(0.25))\n",
    "model.add(Dense(5,activation='softmax'))\n",
    "model.compile(optimizer='adam',loss='categorical_crossentropy',metrics=['accuracy'])\n",
    "model.summary()"
   ]
  },
  {
   "cell_type": "code",
   "execution_count": 5,
   "id": "0b0fe2bc-021b-4ab4-956f-3681d34393d6",
   "metadata": {},
   "outputs": [
    {
     "name": "stdout",
     "output_type": "stream",
     "text": [
      "Epoch 1/10\n",
      "50/50 [==============================] - 63s 1s/step - loss: 1.6030 - accuracy: 0.2919 - val_loss: 2.5014 - val_accuracy: 0.0833\n",
      "Epoch 2/10\n",
      "50/50 [==============================] - 67s 1s/step - loss: 1.3230 - accuracy: 0.4594 - val_loss: 4.9310 - val_accuracy: 0.1875\n",
      "Epoch 3/10\n",
      "50/50 [==============================] - 60s 1s/step - loss: 1.0775 - accuracy: 0.5901 - val_loss: 6.2084 - val_accuracy: 0.0833\n",
      "Epoch 4/10\n",
      "50/50 [==============================] - 58s 1s/step - loss: 0.8531 - accuracy: 0.6701 - val_loss: 8.1535 - val_accuracy: 0.1042\n",
      "Epoch 5/10\n",
      "50/50 [==============================] - 58s 1s/step - loss: 0.6651 - accuracy: 0.7373 - val_loss: 7.8746 - val_accuracy: 0.1042\n",
      "Epoch 6/10\n",
      "50/50 [==============================] - 65s 1s/step - loss: 0.5105 - accuracy: 0.8376 - val_loss: 11.1341 - val_accuracy: 0.1667\n",
      "Epoch 7/10\n",
      "50/50 [==============================] - 76s 2s/step - loss: 0.3686 - accuracy: 0.8655 - val_loss: 10.1226 - val_accuracy: 0.0625\n",
      "Epoch 8/10\n",
      "50/50 [==============================] - 74s 1s/step - loss: 0.2863 - accuracy: 0.9137 - val_loss: 10.1991 - val_accuracy: 0.0625\n",
      "Epoch 9/10\n",
      "50/50 [==============================] - 65s 1s/step - loss: 0.1825 - accuracy: 0.9492 - val_loss: 9.1450 - val_accuracy: 0.0208\n",
      "Epoch 10/10\n",
      "50/50 [==============================] - 65s 1s/step - loss: 0.2277 - accuracy: 0.9162 - val_loss: 16.5110 - val_accuracy: 0.1250\n"
     ]
    }
   ],
   "source": [
    "history =model. fit(\n",
    "    train_generator,\n",
    "    steps_per_epoch=train_generator.samples // batch_size,\n",
    "    epochs=10,  # Adjust the number of epochs as needed\n",
    "    validation_data=validation_generator,\n",
    "    validation_steps=validation_generator.samples // batch_size\n",
    ")"
   ]
  },
  {
   "cell_type": "code",
   "execution_count": 6,
   "id": "9e66d4cb-9b9c-41b3-a27f-ccaf350b5a1a",
   "metadata": {},
   "outputs": [
    {
     "ename": "ValueError",
     "evalue": "Asked to retrieve element 0, but the Sequence has length 0",
     "output_type": "error",
     "traceback": [
      "\u001b[1;31m---------------------------------------------------------------------------\u001b[0m",
      "\u001b[1;31mValueError\u001b[0m                                Traceback (most recent call last)",
      "Cell \u001b[1;32mIn[6], line 6\u001b[0m\n\u001b[0;32m      3\u001b[0m \u001b[38;5;28;01mimport\u001b[39;00m \u001b[38;5;21;01mseaborn\u001b[39;00m \u001b[38;5;28;01mas\u001b[39;00m \u001b[38;5;21;01msns\u001b[39;00m\n\u001b[0;32m      5\u001b[0m \u001b[38;5;66;03m# Make predictions using the provided model and generator\u001b[39;00m\n\u001b[1;32m----> 6\u001b[0m predictions \u001b[38;5;241m=\u001b[39m \u001b[43mmodel\u001b[49m\u001b[38;5;241;43m.\u001b[39;49m\u001b[43mpredict\u001b[49m\u001b[43m(\u001b[49m\u001b[43mtest_generator\u001b[49m\u001b[43m)\u001b[49m\n\u001b[0;32m      8\u001b[0m \u001b[38;5;66;03m# Get true labels from the generator\u001b[39;00m\n\u001b[0;32m      9\u001b[0m true_labels \u001b[38;5;241m=\u001b[39m test_generator\u001b[38;5;241m.\u001b[39mclasses\n",
      "File \u001b[1;32m~\\AppData\\Local\\Programs\\Python\\Python310\\lib\\site-packages\\keras\\utils\\traceback_utils.py:70\u001b[0m, in \u001b[0;36mfilter_traceback.<locals>.error_handler\u001b[1;34m(*args, **kwargs)\u001b[0m\n\u001b[0;32m     67\u001b[0m     filtered_tb \u001b[38;5;241m=\u001b[39m _process_traceback_frames(e\u001b[38;5;241m.\u001b[39m__traceback__)\n\u001b[0;32m     68\u001b[0m     \u001b[38;5;66;03m# To get the full stack trace, call:\u001b[39;00m\n\u001b[0;32m     69\u001b[0m     \u001b[38;5;66;03m# `tf.debugging.disable_traceback_filtering()`\u001b[39;00m\n\u001b[1;32m---> 70\u001b[0m     \u001b[38;5;28;01mraise\u001b[39;00m e\u001b[38;5;241m.\u001b[39mwith_traceback(filtered_tb) \u001b[38;5;28;01mfrom\u001b[39;00m \u001b[38;5;28;01mNone\u001b[39;00m\n\u001b[0;32m     71\u001b[0m \u001b[38;5;28;01mfinally\u001b[39;00m:\n\u001b[0;32m     72\u001b[0m     \u001b[38;5;28;01mdel\u001b[39;00m filtered_tb\n",
      "File \u001b[1;32m~\\AppData\\Local\\Programs\\Python\\Python310\\lib\\site-packages\\keras\\preprocessing\\image.py:103\u001b[0m, in \u001b[0;36mIterator.__getitem__\u001b[1;34m(self, idx)\u001b[0m\n\u001b[0;32m    101\u001b[0m \u001b[38;5;28;01mdef\u001b[39;00m \u001b[38;5;21m__getitem__\u001b[39m(\u001b[38;5;28mself\u001b[39m, idx):\n\u001b[0;32m    102\u001b[0m     \u001b[38;5;28;01mif\u001b[39;00m idx \u001b[38;5;241m>\u001b[39m\u001b[38;5;241m=\u001b[39m \u001b[38;5;28mlen\u001b[39m(\u001b[38;5;28mself\u001b[39m):\n\u001b[1;32m--> 103\u001b[0m         \u001b[38;5;28;01mraise\u001b[39;00m \u001b[38;5;167;01mValueError\u001b[39;00m(\n\u001b[0;32m    104\u001b[0m             \u001b[38;5;124m\"\u001b[39m\u001b[38;5;124mAsked to retrieve element \u001b[39m\u001b[38;5;132;01m{idx}\u001b[39;00m\u001b[38;5;124m, \u001b[39m\u001b[38;5;124m\"\u001b[39m\n\u001b[0;32m    105\u001b[0m             \u001b[38;5;124m\"\u001b[39m\u001b[38;5;124mbut the Sequence \u001b[39m\u001b[38;5;124m\"\u001b[39m\n\u001b[0;32m    106\u001b[0m             \u001b[38;5;124m\"\u001b[39m\u001b[38;5;124mhas length \u001b[39m\u001b[38;5;132;01m{length}\u001b[39;00m\u001b[38;5;124m\"\u001b[39m\u001b[38;5;241m.\u001b[39mformat(idx\u001b[38;5;241m=\u001b[39midx, length\u001b[38;5;241m=\u001b[39m\u001b[38;5;28mlen\u001b[39m(\u001b[38;5;28mself\u001b[39m))\n\u001b[0;32m    107\u001b[0m         )\n\u001b[0;32m    108\u001b[0m     \u001b[38;5;28;01mif\u001b[39;00m \u001b[38;5;28mself\u001b[39m\u001b[38;5;241m.\u001b[39mseed \u001b[38;5;129;01mis\u001b[39;00m \u001b[38;5;129;01mnot\u001b[39;00m \u001b[38;5;28;01mNone\u001b[39;00m:\n\u001b[0;32m    109\u001b[0m         np\u001b[38;5;241m.\u001b[39mrandom\u001b[38;5;241m.\u001b[39mseed(\u001b[38;5;28mself\u001b[39m\u001b[38;5;241m.\u001b[39mseed \u001b[38;5;241m+\u001b[39m \u001b[38;5;28mself\u001b[39m\u001b[38;5;241m.\u001b[39mtotal_batches_seen)\n",
      "\u001b[1;31mValueError\u001b[0m: Asked to retrieve element 0, but the Sequence has length 0"
     ]
    }
   ],
   "source": [
    "\n",
    "from sklearn.metrics import classification_report, confusion_matrix\n",
    "\n",
    "import seaborn as sns\n",
    "\n",
    "# Make predictions using the provided model and generator\n",
    "predictions = model.predict(test_generator)\n",
    "\n",
    "# Get true labels from the generator\n",
    "true_labels = test_generator.classes\n",
    "\n",
    "# Predicted labels are the argmax of the predictions along axis 1\n",
    "predicted_labels = np.argmax(predictions, axis=1)\n",
    "\n",
    "# Display classification report\n",
    "print(f\"Classification Report:\\n{classification_report(true_labels, predicted_labels)}\")\n",
    "\n",
    "# Display colored confusion matrix\n",
    "cm = confusion_matrix(true_labels, predicted_labels)\n",
    "plt.figure(figsize=(8, 6))\n",
    "sns.heatmap(cm, annot=True, fmt='d', cmap='Blues', xticklabels=['Class 0', 'Class 1', 'Class 2', 'Class 3', 'Class 4'], yticklabels=['Class 0', 'Class 1', 'Class 2', 'Class 3', 'Class 4'])\n",
    "plt.xlabel('Predicted Labels')\n",
    "plt.ylabel('True Labels')\n",
    "plt.title('Confusion Matrix')\n",
    "plt.show()"
   ]
  },
  {
   "cell_type": "code",
   "execution_count": null,
   "id": "b49035f1-3e25-4ba5-b7df-a37bfad72072",
   "metadata": {},
   "outputs": [],
   "source": [
    "from  tensorflow.keras.applications import ResNet50 ,InceptionV3 ,VGG16\n",
    "from tensorflow.keras import layers , models\n",
    "\n",
    "base_model_vgg=VGG16(weights='imagenet' ,include_top =False , input_shape=(224,224,3))\n",
    "\n",
    "for layer in base_model_vgg.layers:\n",
    "  layer.trainable =False\n",
    "\n",
    "model_vgg = models.Sequential( [\n",
    "      base_model_vgg ,\n",
    "      layers.GlobalAveragePooling2D(),\n",
    "      layers.Dense(256, activation ='relu'),\n",
    "      layers.Dropout(0.5),\n",
    "      layers.Dense(5,activation ='softmax')\n",
    "   ]\n",
    ")"
   ]
  },
  {
   "cell_type": "code",
   "execution_count": null,
   "id": "082d65f6-6c4f-446c-a852-c370744bcc85",
   "metadata": {},
   "outputs": [],
   "source": [
    "model_vgg.compile(optimizer='adam', loss='categorical_crossentropy', metrics=['accuracy'])"
   ]
  },
  {
   "cell_type": "code",
   "execution_count": null,
   "id": "73ec80bd-5ad5-4628-a9d2-cdac686d6a95",
   "metadata": {},
   "outputs": [],
   "source": [
    "history = model_vgg .fit(\n",
    "    train_generator,\n",
    "    steps_per_epoch=train_generator.samples // batch_size,\n",
    "    epochs=10,  # Adjust the number of epochs as needed\n",
    "    validation_data=validation_generator,\n",
    "    validation_steps=validation_generator.samples // batch_size\n",
    ")"
   ]
  },
  {
   "cell_type": "code",
   "execution_count": null,
   "id": "338ee73d-e8b0-455c-939b-d0db170c9d31",
   "metadata": {},
   "outputs": [],
   "source": [
    "\n",
    "# Make predictions using the provided model and generator\n",
    "predictions = model_vgg.predict(test_generator)\n",
    "\n",
    "# Get true labels from the generator\n",
    "true_labels = test_generator.classes\n",
    "\n",
    "# Predicted labels are the argmax of the predictions along axis 1\n",
    "predicted_labels = np.argmax(predictions, axis=1)\n",
    "\n",
    "# Display classification report\n",
    "print(f\"Classification Report:\\n{classification_report(true_labels, predicted_labels)}\")\n",
    "\n",
    "# Display colored confusion matrix\n",
    "cm = confusion_matrix(true_labels, predicted_labels)\n",
    "plt.figure(figsize=(8, 6))\n",
    "sns.heatmap(cm, annot=True, fmt='d', cmap='Blues', xticklabels=['Class 0', 'Class 1', 'Class 2', 'Class 3', 'Class 4'], yticklabels=['Class 0', 'Class 1', 'Class 2', 'Class 3', 'Class 4'])\n",
    "plt.xlabel('Predicted Labels')\n",
    "plt.ylabel('True Labels')\n",
    "plt.title('Confusion Matrix')\n",
    "plt.show()"
   ]
  },
  {
   "cell_type": "code",
   "execution_count": null,
   "id": "a88fa4df-7cbf-40f8-8667-f37bef134d50",
   "metadata": {},
   "outputs": [],
   "source": [
    "base_model_inception= InceptionV3(weights='imagenet', include_top=False,input_shape=(224,224,3))\n",
    "for layer in base_model_inception.layers:\n",
    "  layer.trainable=False\n",
    "model_inception = models.Sequential([\n",
    "\n",
    " base_model_inception,\n",
    " layers.GlobalAveragePooling2D(),\n",
    " layers.Dense(256,activation='relu'),\n",
    " layers.Dropout(0.5),\n",
    " layers.Dense(5,activation='softmax')\n",
    "\n",
    "])"
   ]
  },
  {
   "cell_type": "code",
   "execution_count": null,
   "id": "22a24c07-00d6-4d4d-942a-7c597a74a97f",
   "metadata": {},
   "outputs": [],
   "source": [
    "model_inception.compile(optimizer='adam', loss='categorical_crossentropy', metrics=['accuracy'])"
   ]
  },
  {
   "cell_type": "code",
   "execution_count": null,
   "id": "4fe08604-edaa-4483-8e65-70e262a4452c",
   "metadata": {},
   "outputs": [],
   "source": [
    "history = model_inception .fit(\n",
    "    train_generator,\n",
    "    steps_per_epoch=train_generator.samples // batch_size,\n",
    "    epochs=10,  # Adjust the number of epochs as needed\n",
    "    validation_data=validation_generator,\n",
    "    validation_steps=validation_generator.samples // batch_size\n",
    ")"
   ]
  },
  {
   "cell_type": "code",
   "execution_count": null,
   "id": "c4af4490-12ef-478a-9980-7359b0040270",
   "metadata": {},
   "outputs": [],
   "source": [
    "# Make predictions using the provided model and generator\n",
    "predictions = model_inception.predict(test_generator)\n",
    "\n",
    "# Get true labels from the generator\n",
    "true_labels = test_generator.classes\n",
    "\n",
    "# Predicted labels are the argmax of the predictions along axis 1\n",
    "predicted_labels = np.argmax(predictions, axis=1)\n",
    "\n",
    "# Display classification report\n",
    "print(f\"Classification Report:\\n{classification_report(true_labels, predicted_labels)}\")\n",
    "\n",
    "# Display colored confusion matrix\n",
    "cm = confusion_matrix(true_labels, predicted_labels)\n",
    "plt.figure(figsize=(8, 6))\n",
    "sns.heatmap(cm, annot=True, fmt='d', cmap='Blues', xticklabels=['Class 0', 'Class 1', 'Class 2', 'Class 3', 'Class 4'], yticklabels=['Class 0', 'Class 1', 'Class 2', 'Class 3', 'Class 4'])\n",
    "plt.xlabel('Predicted Labels')\n",
    "plt.ylabel('True Labels')\n",
    "plt.title('Confusion Matrix')\n",
    "plt.show()"
   ]
  },
  {
   "cell_type": "code",
   "execution_count": null,
   "id": "4d108fcb-660d-4f18-a914-69b8b7fdc0f9",
   "metadata": {},
   "outputs": [],
   "source": [
    "import joblib\n",
    "\n",
    "joblib.dump(model_vgg, 'model_vgg.joblib')\n",
    "joblib.dump(model_inception,'model_inception.joblib')\n",
    "joblib.dump(model_resnet,'model_resnet.joblib')"
   ]
  },
  {
   "cell_type": "code",
   "execution_count": null,
   "id": "2d537f61-7554-4027-9563-26e56c721935",
   "metadata": {},
   "outputs": [],
   "source": [
    "loaded_model_vgg = joblib.load('model_vgg.joblib')\n",
    "loaded_model_inception = joblib.load('model_inception.joblib')\n",
    "loaded_model_resnet = joblib.load('model_resnet.joblib')\n",
    "\n",
    "image_path = '/content/data_folder/test_crop_image/jute-field.jpg'\n",
    "img = image.load_img(image_path, target_size=(224, 224))\n",
    "img_array = image.img_to_array(img)\n",
    "img_array = np.expand_dims(img_array, axis=0)\n",
    "img_array /= 255.\n",
    "\n",
    "\n",
    "predictions_vgg = loaded_model_vgg.predict(img_array)\n",
    "predictions_resnet = loaded_model_resnet.predict(img_array)\n",
    "predictions_inception = loaded_model_inception.predict(img_array)\n",
    "final_predictions = np.argmax(predictions_vgg + predictions_inception + predictions_resnet, axis=1)\n",
    "print(f\"Predicted class: {final_predictions[0]}\")"
   ]
  }
 ],
 "metadata": {
  "kernelspec": {
   "display_name": "Python 3 (ipykernel)",
   "language": "python",
   "name": "python3"
  },
  "language_info": {
   "codemirror_mode": {
    "name": "ipython",
    "version": 3
   },
   "file_extension": ".py",
   "mimetype": "text/x-python",
   "name": "python",
   "nbconvert_exporter": "python",
   "pygments_lexer": "ipython3",
   "version": "3.10.10"
  }
 },
 "nbformat": 4,
 "nbformat_minor": 5
}
