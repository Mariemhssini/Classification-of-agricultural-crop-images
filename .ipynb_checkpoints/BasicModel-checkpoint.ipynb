{
 "cells": [
  {
   "cell_type": "code",
   "execution_count": 25,
   "id": "3a28a10b-4e62-4b9c-bc1b-57b524db02d5",
   "metadata": {},
   "outputs": [],
   "source": [
    "import numpy as np\n",
    "import os\n",
    "import pandas as pd\n",
    "import matplotlib.pyplot as plt\n",
    "from tensorflow.keras.preprocessing.image import ImageDataGenerator\n",
    "from sklearn.model_selection import train_test_split\n",
    "from tensorflow.keras.applications import VGG16\n",
    "from keras.models import Sequential\n",
    "from keras.layers import Dense, Dropout, Flatten, MaxPool2D\n",
    "import cv2"
   ]
  },
  {
   "cell_type": "code",
   "execution_count": 31,
   "id": "1a856fc1-6b6e-4e28-8815-ff4b7743f7eb",
   "metadata": {},
   "outputs": [
    {
     "data": {
      "text/html": [
       "<div>\n",
       "<style scoped>\n",
       "    .dataframe tbody tr th:only-of-type {\n",
       "        vertical-align: middle;\n",
       "    }\n",
       "\n",
       "    .dataframe tbody tr th {\n",
       "        vertical-align: top;\n",
       "    }\n",
       "\n",
       "    .dataframe thead th {\n",
       "        text-align: right;\n",
       "    }\n",
       "</style>\n",
       "<table border=\"1\" class=\"dataframe\">\n",
       "  <thead>\n",
       "    <tr style=\"text-align: right;\">\n",
       "      <th></th>\n",
       "      <th>Unnamed: 0</th>\n",
       "      <th>path</th>\n",
       "      <th>crop</th>\n",
       "      <th>croplabel</th>\n",
       "    </tr>\n",
       "  </thead>\n",
       "  <tbody>\n",
       "    <tr>\n",
       "      <th>0</th>\n",
       "      <td>0</td>\n",
       "      <td>/kaggle/input/kag2/sugarcane/sugarcane037ahs.jpeg</td>\n",
       "      <td>sugarcane</td>\n",
       "      <td>3</td>\n",
       "    </tr>\n",
       "    <tr>\n",
       "      <th>1</th>\n",
       "      <td>1</td>\n",
       "      <td>/kaggle/input/kag2/sugarcane/sugarcane034a.jpeg</td>\n",
       "      <td>sugarcane</td>\n",
       "      <td>3</td>\n",
       "    </tr>\n",
       "    <tr>\n",
       "      <th>2</th>\n",
       "      <td>2</td>\n",
       "      <td>/kaggle/input/kag2/sugarcane/sugarcane032arot....</td>\n",
       "      <td>sugarcane</td>\n",
       "      <td>3</td>\n",
       "    </tr>\n",
       "    <tr>\n",
       "      <th>3</th>\n",
       "      <td>3</td>\n",
       "      <td>/kaggle/input/kag2/sugarcane/sugarcane036ahs.jpeg</td>\n",
       "      <td>sugarcane</td>\n",
       "      <td>3</td>\n",
       "    </tr>\n",
       "    <tr>\n",
       "      <th>4</th>\n",
       "      <td>4</td>\n",
       "      <td>/kaggle/input/kag2/sugarcane/sugarcane023ahs.jpeg</td>\n",
       "      <td>sugarcane</td>\n",
       "      <td>3</td>\n",
       "    </tr>\n",
       "  </tbody>\n",
       "</table>\n",
       "</div>"
      ],
      "text/plain": [
       "   Unnamed: 0                                               path       crop  \\\n",
       "0           0  /kaggle/input/kag2/sugarcane/sugarcane037ahs.jpeg  sugarcane   \n",
       "1           1    /kaggle/input/kag2/sugarcane/sugarcane034a.jpeg  sugarcane   \n",
       "2           2  /kaggle/input/kag2/sugarcane/sugarcane032arot....  sugarcane   \n",
       "3           3  /kaggle/input/kag2/sugarcane/sugarcane036ahs.jpeg  sugarcane   \n",
       "4           4  /kaggle/input/kag2/sugarcane/sugarcane023ahs.jpeg  sugarcane   \n",
       "\n",
       "   croplabel  \n",
       "0          3  \n",
       "1          3  \n",
       "2          3  \n",
       "3          3  \n",
       "4          3  "
      ]
     },
     "execution_count": 31,
     "metadata": {},
     "output_type": "execute_result"
    }
   ],
   "source": [
    "import pandas as pd\n",
    "\n",
    "# Chemin vers le répertoire principal des données\n",
    "data_dir = 'C:/Users/mariem hssn/OneDrive/Bureau/AIProject/archive (1)/'\n",
    "\n",
    "# Nom du fichier CSV\n",
    "file_name = 'Crop_details.csv'\n",
    "\n",
    "# Chemin complet du fichier CSV\n",
    "file_path = data_dir + file_name\n",
    "\n",
    "# Charger le fichier CSV\n",
    "df = pd.read_csv(file_path)\n",
    "\n",
    "# Afficher les premières lignes du DataFrame\n",
    "df.head()\n"
   ]
  },
  {
   "cell_type": "code",
   "execution_count": 34,
   "id": "857e80f9-5e7c-4e9c-acdf-ec89b7602507",
   "metadata": {},
   "outputs": [
    {
     "data": {
      "text/plain": [
       "['jute', 'maize', 'rice', 'sugarcane', 'wheat']"
      ]
     },
     "execution_count": 34,
     "metadata": {},
     "output_type": "execute_result"
    }
   ],
   "source": [
    "categories = os.listdir(\"C:/Users/mariem hssn/OneDrive/Bureau/AIProject/archive (1)/kag2\")\n",
    "categories"
   ]
  },
  {
   "cell_type": "code",
   "execution_count": 36,
   "id": "0b38261a-adc0-4d39-b818-39e6e8f0005b",
   "metadata": {},
   "outputs": [],
   "source": [
    "getData = ImageDataGenerator(rescale=1/255,\n",
    "                             shear_range=0.3,\n",
    "                             horizontal_flip=True,\n",
    "                            vertical_flip= True,\n",
    "                            rotation_range=90)"
   ]
  },
  {
   "cell_type": "code",
   "execution_count": null,
   "id": "af90e56f-0068-45e9-89c1-d76a65a29d44",
   "metadata": {},
   "outputs": [],
   "source": [
    "kag2_data = getData.flow_from_directory(\"C:/Users/mariem hssn/OneDrive/Bureau/AIProject/archive (1)/kag2\",\n",
    "                                       target_size=(224,224),\n",
    "                                       class_mode='categorical',\n",
    "                                       shuffle = True,\n",
    "                                       batch_size=32)"
   ]
  }
 ],
 "metadata": {
  "kernelspec": {
   "display_name": "Python 3 (ipykernel)",
   "language": "python",
   "name": "python3"
  },
  "language_info": {
   "codemirror_mode": {
    "name": "ipython",
    "version": 3
   },
   "file_extension": ".py",
   "mimetype": "text/x-python",
   "name": "python",
   "nbconvert_exporter": "python",
   "pygments_lexer": "ipython3",
   "version": "3.10.10"
  }
 },
 "nbformat": 4,
 "nbformat_minor": 5
}
